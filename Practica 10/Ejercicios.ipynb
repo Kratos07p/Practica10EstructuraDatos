{
 "cells": [
  {
   "cell_type": "code",
   "execution_count": null,
   "metadata": {},
   "outputs": [],
   "source": [
    "'''Tienes un conjunto de datos que contiene información de ventas mensuales. Utiliza Pandas\n",
    "para cargar los datos y Matplotlib para crear un gráfico de barras horizontal que muestre\n",
    "las ventas totales para cada mes. Asegúrate de etiquetar adecuadamente los ejes y agregar\n",
    "un título al gráfico.'''\n",
    "import pandas as pd\n",
    "import matplotlib.pyplot as plt\n",
    "\n",
    "enero = ['Enero', 4500]\n",
    "febrero = ['Febrero', 4824]\n",
    "marzo = ['Marzo', 3948]\n",
    "abril = ['Abril', 3213]\n",
    "mayo = ['Mayo', 3421]\n",
    "junio = ['Junio', 5891]\n",
    "julio = ['Julio', 5838]\n",
    "agosto = ['Agosto', 3574]\n",
    "septiembre = ['Septiembre', 3948]\n",
    "octubre = ['Octubre', 1298]\n",
    "noviembre = ['Noviembre', 2843]\n",
    "diciembre = ['Diciembre', 2948]\n",
    "\n",
    "lista_ventas = [enero, febrero, marzo, abril, mayo, junio, julio, agosto, septiembre, octubre, noviembre, diciembre]\n",
    "df_ventas = pd.DataFrame(lista_ventas, columns=['Meses', 'Ventas'])\n",
    "\n",
    "plt.figure(figsize=(14, 6))\n",
    "plt.bar(df_ventas['Meses'], df_ventas['Ventas'], width=0.6) \n",
    "plt.title('Barra de Ventas Mensuales')\n",
    "plt.xlabel('Meses')\n",
    "plt.ylabel('Ventas')\n",
    "plt.show()"
   ]
  },
  {
   "cell_type": "code",
   "execution_count": null,
   "metadata": {},
   "outputs": [],
   "source": [
    "'''Tienes un archivo con datos de puntajes en dos exámenes para un grupo de estudiantes.\n",
    "Carga los datos utilizando Pandas y crea un gráfico de áreas utilizando Matplotlib para\n",
    "visualizar la relación entre los puntajes de los dos exámenes. Añade etiquetas a los ejes y\n",
    "un título al gráfico.'''\n",
    "\n",
    "import pandas as pd\n",
    "import matplotlib.pyplot as plt\n",
    "\n",
    "alumnos = ['Pedro', 'Moises', 'Daniel', 'Cristian', 'Pablo', 'Whilo', 'Martha', 'Ixar']\n",
    "examen1 = [85, 90, 78, 92, 88, 76, 84, 89]\n",
    "examen2 = [88, 92, 80, 94, 90, 82, 85, 91]\n",
    "\n",
    "df_comparacion = pd.DataFrame({'Alumnos': alumnos, 'Examen1': examen1, 'Examen2': examen2})\n",
    "\n",
    "plt.figure(figsize=(10, 6))\n",
    "plt.fill_between(df_comparacion['Alumnos'], df_comparacion['Examen1'], color='b', alpha=0.5, label='Examen 1')\n",
    "plt.scatter(df_comparacion['Alumnos'], df_comparacion['Examen1'], color='b')\n",
    "plt.fill_between(df_comparacion['Alumnos'], df_comparacion['Examen2'], color='g', alpha=0.5, label='Examen 2')\n",
    "plt.scatter(df_comparacion['Alumnos'], df_comparacion['Examen2'], color='g')\n",
    "plt.title(\"Gráfico de Áreas de dos Exámenes\")\n",
    "plt.xlabel(\"Alumnos\")\n",
    "plt.ylabel(\"Nota\")\n",
    "plt.show()\n",
    "\n"
   ]
  }
 ],
 "metadata": {
  "kernelspec": {
   "display_name": "Python 3",
   "language": "python",
   "name": "python3"
  },
  "language_info": {
   "codemirror_mode": {
    "name": "ipython",
    "version": 3
   },
   "file_extension": ".py",
   "mimetype": "text/x-python",
   "name": "python",
   "nbconvert_exporter": "python",
   "pygments_lexer": "ipython3",
   "version": "3.11.2"
  }
 },
 "nbformat": 4,
 "nbformat_minor": 2
}
